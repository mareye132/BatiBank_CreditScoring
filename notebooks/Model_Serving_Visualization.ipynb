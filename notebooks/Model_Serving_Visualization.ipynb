{
 "cells": [
  {
   "cell_type": "code",
   "execution_count": 4,
   "metadata": {},
   "outputs": [
    {
     "name": "stdout",
     "output_type": "stream",
     "text": [
      "Request failed: HTTPConnectionPool(host='127.0.0.1', port=5000): Max retries exceeded with url: /predict (Caused by NewConnectionError('<urllib3.connection.HTTPConnection object at 0x000002A968A273B0>: Failed to establish a new connection: [WinError 10061] No connection could be made because the target machine actively refused it'))\n"
     ]
    }
   ],
   "source": [
    "import requests\n",
    "\n",
    "# Define the URL for the Flask API\n",
    "url = 'http://127.0.0.1:5000/predict'  # Ensure this is the correct endpoint\n",
    "\n",
    "# Sample input data\n",
    "input_data = {\n",
    "    \"input\": [\n",
    "        {\n",
    "            \"CurrencyCode\": \"USD\",\n",
    "            \"CountryCode\": 840,\n",
    "            \"ProviderId\": 202122,\n",
    "            \"ProductId\": 232425,\n",
    "            \"ProductCategory\": \"Loan\",\n",
    "            \"ChannelId\": \"Online\",\n",
    "            \"PricingStrategy\": \"Competitive\",\n",
    "            \"Amount\": 100.0,\n",
    "            \"Value\": 100.0\n",
    "        }\n",
    "    ]\n",
    "}\n",
    "try:\n",
    "    # Send the POST request to the Flask server\n",
    "    response = requests.post(url, json=input_data)\n",
    "\n",
    "    # Check the response\n",
    "    print(\"Response Status Code:\", response.status_code)\n",
    "\n",
    "    # Try to decode the JSON response\n",
    "    response_json = response.json()  # Attempt to decode the JSON response\n",
    "    print(\"Response Body:\", response_json)\n",
    "\n",
    "except requests.exceptions.RequestException as req_error:\n",
    "    print(\"Request failed:\", str(req_error))\n",
    "except ValueError as json_error:\n",
    "    print(\"Failed to decode JSON response:\", str(json_error))\n",
    "    print(\"Response Text:\", response.text)  # Print the raw response text for further inspection\n"
   ]
  }
 ],
 "metadata": {
  "kernelspec": {
   "display_name": "Python 3",
   "language": "python",
   "name": "python3"
  },
  "language_info": {
   "codemirror_mode": {
    "name": "ipython",
    "version": 3
   },
   "file_extension": ".py",
   "mimetype": "text/x-python",
   "name": "python",
   "nbconvert_exporter": "python",
   "pygments_lexer": "ipython3",
   "version": "3.12.5"
  }
 },
 "nbformat": 4,
 "nbformat_minor": 2
}
